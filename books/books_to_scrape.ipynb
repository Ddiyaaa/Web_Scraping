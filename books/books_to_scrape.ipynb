{
 "cells": [
  {
   "cell_type": "markdown",
   "id": "d88290d3-5f70-47bf-a112-b9618659d750",
   "metadata": {},
   "source": [
    "# Part 1: Web Scraping (Using Python)"
   ]
  },
  {
   "cell_type": "code",
   "execution_count": 108,
   "id": "ebb8168d-3dbc-416a-8545-947f902faa89",
   "metadata": {},
   "outputs": [
    {
     "name": "stdout",
     "output_type": "stream",
     "text": [
      "Data scraping complete. Data saved to 'books_data.csv'.\n"
     ]
    }
   ],
   "source": [
    "import requests\n",
    "from bs4 import BeautifulSoup\n",
    "import csv\n",
    "\n",
    "RATING_MAP = {\n",
    "    \"One\": 1,\n",
    "    \"Two\": 2,\n",
    "    \"Three\": 3,\n",
    "    \"Four\": 4,\n",
    "    \"Five\": 5\n",
    "}\n",
    "\n",
    "base_url = \"http://books.toscrape.com/catalogue/page-{}.html\"\n",
    "books = []\n",
    "\n",
    "for page in range(1, 51):\n",
    "    url = base_url.format(page)\n",
    "    response = requests.get(url)\n",
    "    response.encoding = 'utf-8'  # Force UTF-8 encoding\n",
    "    soup = BeautifulSoup(response.text, 'html.parser')\n",
    "    articles = soup.find_all(\"article\", class_=\"product_pod\")\n",
    "\n",
    "    for article in articles:\n",
    "        title = article.h3.a['title']\n",
    "        \n",
    "        # Clean price string\n",
    "        price_text = article.find('p', class_='price_color').text\n",
    "        price_clean = price_text.replace('Â', '').replace('£', '').strip()\n",
    "        price = float(price_clean)\n",
    "        \n",
    "        availability = article.find('p', class_='instock availability').text.strip()\n",
    "        rating_class = article.p.get('class')[1]\n",
    "        rating = RATING_MAP.get(rating_class, 0)\n",
    "\n",
    "        books.append([title, price, availability, rating])\n",
    "\n",
    "# Write data to CSV\n",
    "with open('books_data.csv', 'w', newline='', encoding='utf-8') as file:\n",
    "    writer = csv.writer(file)\n",
    "    writer.writerow(['title', 'price', 'availability', 'rating'])\n",
    "    writer.writerows(books)\n",
    "\n",
    "print(\"Data scraping complete. Data saved to 'books_data.csv'.\")\n"
   ]
  },
  {
   "cell_type": "markdown",
   "id": "a792b03a-2efd-4a38-afb6-f93aecb1fc6c",
   "metadata": {},
   "source": [
    "# Part 2: SQL Insights"
   ]
  },
  {
   "cell_type": "code",
   "execution_count": 2,
   "id": "75fbd60b-fdc1-401d-818a-a6b88bb9eeea",
   "metadata": {},
   "outputs": [
    {
     "name": "stdout",
     "output_type": "stream",
     "text": [
      "Requirement already satisfied: pymysql in c:\\users\\diya\\anaconda3\\lib\\site-packages (1.1.1)\n",
      "Note: you may need to restart the kernel to use updated packages.\n"
     ]
    }
   ],
   "source": [
    "pip install pymysql"
   ]
  },
  {
   "cell_type": "code",
   "execution_count": 12,
   "id": "fa353fcb-2d24-4483-bf88-4c70c4423a59",
   "metadata": {},
   "outputs": [
    {
     "name": "stdout",
     "output_type": "stream",
     "text": [
      "Collecting mysql-connector-pythonNote: you may need to restart the kernel to use updated packages.\n",
      "\n",
      "  Downloading mysql_connector_python-9.3.0-cp312-cp312-win_amd64.whl.metadata (7.7 kB)\n",
      "Downloading mysql_connector_python-9.3.0-cp312-cp312-win_amd64.whl (16.4 MB)\n",
      "   ---------------------------------------- 0.0/16.4 MB ? eta -:--:--\n",
      "   ---------------------------------------- 0.0/16.4 MB ? eta -:--:--\n",
      "   ---------------------------------------- 0.0/16.4 MB ? eta -:--:--\n",
      "   ---------------------------------------- 0.0/16.4 MB ? eta -:--:--\n",
      "    --------------------------------------- 0.3/16.4 MB ? eta -:--:--\n",
      "   - -------------------------------------- 0.5/16.4 MB 762.0 kB/s eta 0:00:21\n",
      "   - -------------------------------------- 0.5/16.4 MB 762.0 kB/s eta 0:00:21\n",
      "   - -------------------------------------- 0.8/16.4 MB 799.2 kB/s eta 0:00:20\n",
      "   - -------------------------------------- 0.8/16.4 MB 799.2 kB/s eta 0:00:20\n",
      "   -- ------------------------------------- 1.0/16.4 MB 739.8 kB/s eta 0:00:21\n",
      "   -- ------------------------------------- 1.0/16.4 MB 739.8 kB/s eta 0:00:21\n",
      "   -- ------------------------------------- 1.0/16.4 MB 739.8 kB/s eta 0:00:21\n",
      "   --- ------------------------------------ 1.3/16.4 MB 615.7 kB/s eta 0:00:25\n",
      "   --- ------------------------------------ 1.3/16.4 MB 615.7 kB/s eta 0:00:25\n",
      "   --- ------------------------------------ 1.6/16.4 MB 599.0 kB/s eta 0:00:25\n",
      "   --- ------------------------------------ 1.6/16.4 MB 599.0 kB/s eta 0:00:25\n",
      "   ---- ----------------------------------- 1.8/16.4 MB 629.1 kB/s eta 0:00:24\n",
      "   ----- ---------------------------------- 2.1/16.4 MB 667.3 kB/s eta 0:00:22\n",
      "   ----- ---------------------------------- 2.4/16.4 MB 710.2 kB/s eta 0:00:20\n",
      "   ------- -------------------------------- 2.9/16.4 MB 791.3 kB/s eta 0:00:18\n",
      "   ------- -------------------------------- 2.9/16.4 MB 791.3 kB/s eta 0:00:18\n",
      "   ------- -------------------------------- 2.9/16.4 MB 791.3 kB/s eta 0:00:18\n",
      "   ------- -------------------------------- 3.1/16.4 MB 723.6 kB/s eta 0:00:19\n",
      "   ------- -------------------------------- 3.1/16.4 MB 723.6 kB/s eta 0:00:19\n",
      "   -------- ------------------------------- 3.4/16.4 MB 721.5 kB/s eta 0:00:18\n",
      "   -------- ------------------------------- 3.4/16.4 MB 721.5 kB/s eta 0:00:18\n",
      "   -------- ------------------------------- 3.4/16.4 MB 721.5 kB/s eta 0:00:18\n",
      "   -------- ------------------------------- 3.7/16.4 MB 696.8 kB/s eta 0:00:19\n",
      "   --------- ------------------------------ 3.9/16.4 MB 705.4 kB/s eta 0:00:18\n",
      "   --------- ------------------------------ 3.9/16.4 MB 705.4 kB/s eta 0:00:18\n",
      "   ---------- ----------------------------- 4.2/16.4 MB 697.1 kB/s eta 0:00:18\n",
      "   ---------- ----------------------------- 4.2/16.4 MB 697.1 kB/s eta 0:00:18\n",
      "   ---------- ----------------------------- 4.2/16.4 MB 697.1 kB/s eta 0:00:18\n",
      "   ---------- ----------------------------- 4.5/16.4 MB 677.8 kB/s eta 0:00:18\n",
      "   ---------- ----------------------------- 4.5/16.4 MB 677.8 kB/s eta 0:00:18\n",
      "   ----------- ---------------------------- 4.7/16.4 MB 672.7 kB/s eta 0:00:18\n",
      "   ----------- ---------------------------- 4.7/16.4 MB 672.7 kB/s eta 0:00:18\n",
      "   ------------ --------------------------- 5.0/16.4 MB 680.1 kB/s eta 0:00:17\n",
      "   ------------ --------------------------- 5.2/16.4 MB 694.5 kB/s eta 0:00:17\n",
      "   ------------ --------------------------- 5.2/16.4 MB 694.5 kB/s eta 0:00:17\n",
      "   ------------- -------------------------- 5.5/16.4 MB 691.9 kB/s eta 0:00:16\n",
      "   -------------- ------------------------- 5.8/16.4 MB 704.6 kB/s eta 0:00:16\n",
      "   -------------- ------------------------- 6.0/16.4 MB 709.8 kB/s eta 0:00:15\n",
      "   -------------- ------------------------- 6.0/16.4 MB 709.8 kB/s eta 0:00:15\n",
      "   -------------- ------------------------- 6.0/16.4 MB 709.8 kB/s eta 0:00:15\n",
      "   --------------- ------------------------ 6.3/16.4 MB 697.8 kB/s eta 0:00:15\n",
      "   --------------- ------------------------ 6.3/16.4 MB 697.8 kB/s eta 0:00:15\n",
      "   ---------------- ----------------------- 6.6/16.4 MB 687.1 kB/s eta 0:00:15\n",
      "   ---------------- ----------------------- 6.6/16.4 MB 687.1 kB/s eta 0:00:15\n",
      "   ---------------- ----------------------- 6.8/16.4 MB 690.9 kB/s eta 0:00:14\n",
      "   ---------------- ----------------------- 6.8/16.4 MB 690.9 kB/s eta 0:00:14\n",
      "   ---------------- ----------------------- 6.8/16.4 MB 690.9 kB/s eta 0:00:14\n",
      "   ----------------- ---------------------- 7.1/16.4 MB 674.2 kB/s eta 0:00:14\n",
      "   ----------------- ---------------------- 7.3/16.4 MB 675.0 kB/s eta 0:00:14\n",
      "   ------------------ --------------------- 7.6/16.4 MB 682.8 kB/s eta 0:00:13\n",
      "   ------------------ --------------------- 7.6/16.4 MB 682.8 kB/s eta 0:00:13\n",
      "   ------------------- -------------------- 7.9/16.4 MB 684.3 kB/s eta 0:00:13\n",
      "   ------------------- -------------------- 8.1/16.4 MB 691.4 kB/s eta 0:00:12\n",
      "   -------------------- ------------------- 8.4/16.4 MB 700.9 kB/s eta 0:00:12\n",
      "   --------------------- ------------------ 8.7/16.4 MB 713.0 kB/s eta 0:00:11\n",
      "   --------------------- ------------------ 8.7/16.4 MB 713.0 kB/s eta 0:00:11\n",
      "   --------------------- ------------------ 8.9/16.4 MB 717.1 kB/s eta 0:00:11\n",
      "   ---------------------- ----------------- 9.2/16.4 MB 724.8 kB/s eta 0:00:10\n",
      "   ----------------------- ---------------- 9.4/16.4 MB 734.9 kB/s eta 0:00:10\n",
      "   ----------------------- ---------------- 9.4/16.4 MB 734.9 kB/s eta 0:00:10\n",
      "   ----------------------- ---------------- 9.7/16.4 MB 725.0 kB/s eta 0:00:10\n",
      "   ----------------------- ---------------- 9.7/16.4 MB 725.0 kB/s eta 0:00:10\n",
      "   ------------------------ --------------- 10.0/16.4 MB 728.6 kB/s eta 0:00:09\n",
      "   ------------------------ --------------- 10.0/16.4 MB 728.6 kB/s eta 0:00:09\n",
      "   ------------------------ --------------- 10.0/16.4 MB 728.6 kB/s eta 0:00:09\n",
      "   ------------------------ --------------- 10.2/16.4 MB 704.4 kB/s eta 0:00:09\n",
      "   ------------------------ --------------- 10.2/16.4 MB 704.4 kB/s eta 0:00:09\n",
      "   ------------------------ --------------- 10.2/16.4 MB 704.4 kB/s eta 0:00:09\n",
      "   ------------------------ --------------- 10.2/16.4 MB 704.4 kB/s eta 0:00:09\n",
      "   ------------------------- -------------- 10.5/16.4 MB 690.9 kB/s eta 0:00:09\n",
      "   ------------------------- -------------- 10.5/16.4 MB 690.9 kB/s eta 0:00:09\n",
      "   -------------------------- ------------- 10.7/16.4 MB 681.3 kB/s eta 0:00:09\n",
      "   -------------------------- ------------- 10.7/16.4 MB 681.3 kB/s eta 0:00:09\n",
      "   -------------------------- ------------- 11.0/16.4 MB 680.4 kB/s eta 0:00:08\n",
      "   -------------------------- ------------- 11.0/16.4 MB 680.4 kB/s eta 0:00:08\n",
      "   --------------------------- ------------ 11.3/16.4 MB 684.8 kB/s eta 0:00:08\n",
      "   ---------------------------- ----------- 11.5/16.4 MB 690.4 kB/s eta 0:00:07\n",
      "   ---------------------------- ----------- 11.5/16.4 MB 690.4 kB/s eta 0:00:07\n",
      "   ---------------------------- ----------- 11.5/16.4 MB 690.4 kB/s eta 0:00:07\n",
      "   ---------------------------- ----------- 11.8/16.4 MB 674.8 kB/s eta 0:00:07\n",
      "   ---------------------------- ----------- 11.8/16.4 MB 674.8 kB/s eta 0:00:07\n",
      "   ----------------------------- ---------- 12.1/16.4 MB 672.3 kB/s eta 0:00:07\n",
      "   ----------------------------- ---------- 12.1/16.4 MB 672.3 kB/s eta 0:00:07\n",
      "   ------------------------------ --------- 12.3/16.4 MB 671.7 kB/s eta 0:00:07\n",
      "   ------------------------------ --------- 12.3/16.4 MB 671.7 kB/s eta 0:00:07\n",
      "   ------------------------------ --------- 12.6/16.4 MB 673.4 kB/s eta 0:00:06\n",
      "   ------------------------------ --------- 12.6/16.4 MB 673.4 kB/s eta 0:00:06\n",
      "   ------------------------------- -------- 12.8/16.4 MB 673.3 kB/s eta 0:00:06\n",
      "   ------------------------------- -------- 12.8/16.4 MB 673.3 kB/s eta 0:00:06\n",
      "   -------------------------------- ------- 13.1/16.4 MB 668.9 kB/s eta 0:00:05\n",
      "   -------------------------------- ------- 13.1/16.4 MB 668.9 kB/s eta 0:00:05\n",
      "   -------------------------------- ------- 13.1/16.4 MB 668.9 kB/s eta 0:00:05\n",
      "   -------------------------------- ------- 13.1/16.4 MB 668.9 kB/s eta 0:00:05\n",
      "   -------------------------------- ------- 13.1/16.4 MB 668.9 kB/s eta 0:00:05\n",
      "   -------------------------------- ------- 13.1/16.4 MB 668.9 kB/s eta 0:00:05\n",
      "   -------------------------------- ------- 13.1/16.4 MB 668.9 kB/s eta 0:00:05\n",
      "   -------------------------------- ------- 13.4/16.4 MB 636.0 kB/s eta 0:00:05\n",
      "   -------------------------------- ------- 13.4/16.4 MB 636.0 kB/s eta 0:00:05\n",
      "   -------------------------------- ------- 13.4/16.4 MB 636.0 kB/s eta 0:00:05\n",
      "   -------------------------------- ------- 13.4/16.4 MB 636.0 kB/s eta 0:00:05\n",
      "   -------------------------------- ------- 13.4/16.4 MB 636.0 kB/s eta 0:00:05\n",
      "   -------------------------------- ------- 13.4/16.4 MB 636.0 kB/s eta 0:00:05\n",
      "   -------------------------------- ------- 13.4/16.4 MB 636.0 kB/s eta 0:00:05\n",
      "   -------------------------------- ------- 13.4/16.4 MB 636.0 kB/s eta 0:00:05\n",
      "   -------------------------------- ------- 13.4/16.4 MB 636.0 kB/s eta 0:00:05\n",
      "   -------------------------------- ------- 13.4/16.4 MB 636.0 kB/s eta 0:00:05\n",
      "   -------------------------------- ------- 13.4/16.4 MB 636.0 kB/s eta 0:00:05\n",
      "   -------------------------------- ------- 13.4/16.4 MB 636.0 kB/s eta 0:00:05\n",
      "   -------------------------------- ------- 13.4/16.4 MB 636.0 kB/s eta 0:00:05\n",
      "   -------------------------------- ------- 13.4/16.4 MB 636.0 kB/s eta 0:00:05\n",
      "   -------------------------------- ------- 13.4/16.4 MB 636.0 kB/s eta 0:00:05\n",
      "   -------------------------------- ------- 13.4/16.4 MB 636.0 kB/s eta 0:00:05\n",
      "   -------------------------------- ------- 13.4/16.4 MB 636.0 kB/s eta 0:00:05\n",
      "   -------------------------------- ------- 13.4/16.4 MB 636.0 kB/s eta 0:00:05\n",
      "   -------------------------------- ------- 13.4/16.4 MB 636.0 kB/s eta 0:00:05\n",
      "   -------------------------------- ------- 13.4/16.4 MB 636.0 kB/s eta 0:00:05\n",
      "   -------------------------------- ------- 13.4/16.4 MB 636.0 kB/s eta 0:00:05\n",
      "   -------------------------------- ------- 13.4/16.4 MB 636.0 kB/s eta 0:00:05\n",
      "   --------------------------------- ------ 13.6/16.4 MB 529.5 kB/s eta 0:00:06\n",
      "   --------------------------------- ------ 13.6/16.4 MB 529.5 kB/s eta 0:00:06\n",
      "   --------------------------------- ------ 13.9/16.4 MB 530.7 kB/s eta 0:00:05\n",
      "   --------------------------------- ------ 13.9/16.4 MB 530.7 kB/s eta 0:00:05\n",
      "   --------------------------------- ------ 13.9/16.4 MB 530.7 kB/s eta 0:00:05\n",
      "   --------------------------------- ------ 13.9/16.4 MB 530.7 kB/s eta 0:00:05\n",
      "   ---------------------------------- ----- 14.2/16.4 MB 523.7 kB/s eta 0:00:05\n",
      "   ----------------------------------- ---- 14.4/16.4 MB 526.1 kB/s eta 0:00:04\n",
      "   ----------------------------------- ---- 14.4/16.4 MB 526.1 kB/s eta 0:00:04\n",
      "   ----------------------------------- ---- 14.7/16.4 MB 528.2 kB/s eta 0:00:04\n",
      "   ----------------------------------- ---- 14.7/16.4 MB 528.2 kB/s eta 0:00:04\n",
      "   ------------------------------------ --- 14.9/16.4 MB 532.0 kB/s eta 0:00:03\n",
      "   ------------------------------------- -- 15.2/16.4 MB 536.0 kB/s eta 0:00:03\n",
      "   ------------------------------------- -- 15.5/16.4 MB 541.2 kB/s eta 0:00:02\n",
      "   -------------------------------------- - 15.7/16.4 MB 546.6 kB/s eta 0:00:02\n",
      "   ---------------------------------------  16.0/16.4 MB 552.8 kB/s eta 0:00:01\n",
      "   ---------------------------------------- 16.4/16.4 MB 560.5 kB/s eta 0:00:00\n",
      "Installing collected packages: mysql-connector-python\n",
      "Successfully installed mysql-connector-python-9.3.0\n"
     ]
    }
   ],
   "source": [
    "pip install mysql-connector-python"
   ]
  },
  {
   "cell_type": "code",
   "execution_count": 14,
   "id": "14e4bbf0-bb60-4b0b-9d0f-cba14608e266",
   "metadata": {},
   "outputs": [
    {
     "name": "stdout",
     "output_type": "stream",
     "text": [
      "Requirement already satisfied: mysql-connector-python in c:\\users\\diya\\anaconda3\\lib\\site-packages (9.3.0)\n",
      "Note: you may need to restart the kernel to use updated packages.\n"
     ]
    }
   ],
   "source": [
    "pip install mysql-connector-python"
   ]
  },
  {
   "cell_type": "code",
   "execution_count": 89,
   "id": "8f09db1d-f41e-4d7c-9c68-262858c11948",
   "metadata": {},
   "outputs": [],
   "source": [
    "import pandas as pd\n",
    "\n",
    "import mysql.connector\n",
    "\n",
    "#Connect to MySQL\n",
    "\n",
    "conn = mysql.connector.connect(\n",
    "\n",
    "    host=\"localhost\",\n",
    "\n",
    "    user=\"root\",\n",
    "\n",
    "    password=\"Diya@123\",\n",
    "\n",
    "    database=\"bookstoree\"\n",
    "\n",
    ")\n",
    "\n",
    "cursor = conn.cursor()"
   ]
  },
  {
   "cell_type": "code",
   "execution_count": 91,
   "id": "dfd02605-a018-4091-92a5-4f48f74d9d94",
   "metadata": {},
   "outputs": [
    {
     "data": {
      "text/plain": [
       "True"
      ]
     },
     "execution_count": 91,
     "metadata": {},
     "output_type": "execute_result"
    }
   ],
   "source": [
    "# Assuming your connection is still active\n",
    "cursor = conn.cursor()  # Reinitialize a new cursor\n",
    "cursor.execute(\"SELECT * FROM books_scrape\")\n",
    "rows = cursor.fetchall()\n",
    "for row in rows:\n",
    "    print(row)\n",
    "\n",
    "cursor.close()  # Close the cursor when done\n"
   ]
  },
  {
   "cell_type": "code",
   "execution_count": 93,
   "id": "5210d86c-3b65-4aea-9e68-d259f6765621",
   "metadata": {},
   "outputs": [
    {
     "name": "stdout",
     "output_type": "stream",
     "text": [
      "Connected to MySQL.\n",
      " Table 'books_scrape' is ready.\n",
      " Inserted 1000 rows into 'books_scrape'.\n",
      " Connection closed.\n"
     ]
    }
   ],
   "source": [
    "import pandas as pd\n",
    "import mysql.connector\n",
    "\n",
    "# Step 1: Load CSV\n",
    "df = pd.read_csv(\"books_data.csv\")\n",
    "\n",
    "# Step 2: Connect to MySQL\n",
    "try:\n",
    "    conn = mysql.connector.connect(\n",
    "        host=\"localhost\",\n",
    "        user=\"root\",\n",
    "        password=\"Diya@123\",\n",
    "        database=\"bookstoree\"\n",
    "    )\n",
    "\n",
    "    if conn.is_connected():\n",
    "        print(\"Connected to MySQL.\")\n",
    "\n",
    "    cursor = conn.cursor()\n",
    "\n",
    "    # Step 3: Create table (if not exists)\n",
    "    create_table_query = \"\"\"\n",
    "    CREATE TABLE IF NOT EXISTS books_scrape (\n",
    "        id INT AUTO_INCREMENT PRIMARY KEY,\n",
    "        title VARCHAR(255),\n",
    "        price FLOAT,\n",
    "        availability VARCHAR(100),\n",
    "        rating INT\n",
    "    );\n",
    "    \"\"\"\n",
    "    cursor.execute(create_table_query)\n",
    "    conn.commit()\n",
    "    print(\" Table 'books_scrape' is ready.\")\n",
    "\n",
    "    # Step 4: Insert data\n",
    "    insert_query = \"\"\"\n",
    "    INSERT INTO books_scrape (title, price, availability, rating)\n",
    "    VALUES (%s, %s, %s, %s)\n",
    "    \"\"\"\n",
    "    for _, row in df.iterrows():\n",
    "        cursor.execute(insert_query, (\n",
    "            row['title'],\n",
    "            float(row['price']),\n",
    "            row['availability'],\n",
    "            int(row['rating'])\n",
    "        ))\n",
    "\n",
    "    conn.commit()\n",
    "    print(f\" Inserted {len(df)} rows into 'books_scrape'.\")\n",
    "\n",
    "except mysql.connector.Error as err:\n",
    "    print(\" MySQL Error:\", err)\n",
    "\n",
    "finally:\n",
    "    # Step 5: Clean up\n",
    "    if 'cursor' in locals() and cursor:\n",
    "        cursor.close()\n",
    "    if 'conn' in locals() and conn.is_connected():\n",
    "        conn.close()\n",
    "    print(\" Connection closed.\")\n"
   ]
  },
  {
   "cell_type": "markdown",
   "id": "07086909-fbab-4997-ba36-ebf1a8e132b0",
   "metadata": {},
   "source": [
    "## Find the number of books available in stock."
   ]
  },
  {
   "cell_type": "code",
   "execution_count": 95,
   "id": "a1cdd759-072c-4270-bf14-970f8b15cab1",
   "metadata": {},
   "outputs": [
    {
     "name": "stdout",
     "output_type": "stream",
     "text": [
      " Total books in stock: 1000\n"
     ]
    }
   ],
   "source": [
    "import mysql.connector\n",
    "\n",
    "# Step 1: Reconnect\n",
    "conn = mysql.connector.connect(\n",
    "    host=\"localhost\",\n",
    "    user=\"root\",\n",
    "    password=\"Diya@123\",\n",
    "    database=\"bookstoree\"\n",
    ")\n",
    "cursor = conn.cursor()\n",
    "\n",
    "# Step 2: Count 'In stock' books\n",
    "query = \"\"\"\n",
    "SELECT COUNT(*) FROM books_scrape\n",
    "WHERE availability LIKE '%In stock%';\n",
    "\"\"\"\n",
    "cursor.execute(query)\n",
    "result = cursor.fetchone()\n",
    "count_in_stock = result[0]\n",
    "\n",
    "# Step 3: Print result\n",
    "print(f\" Total books in stock: {count_in_stock}\")\n",
    "\n",
    "# Step 4: Close connection\n",
    "cursor.close()\n",
    "conn.close()\n"
   ]
  },
  {
   "cell_type": "code",
   "execution_count": 97,
   "id": "ae776726-684d-4b47-99c6-8c87f81269da",
   "metadata": {},
   "outputs": [],
   "source": [
    "# To clear the record\n",
    "# cursor = conn.cursor()\n",
    "# cursor.execute(\"DELETE FROM books_scrape\")\n",
    "# conn.commit()\n",
    "# print(\"Table 'books_scrape' has been cleared.\")\n"
   ]
  },
  {
   "cell_type": "markdown",
   "id": "96ad7bda-3c7e-4b97-a4a5-34b8525f0228",
   "metadata": {},
   "source": [
    "## List the top 5 most expensive books."
   ]
  },
  {
   "cell_type": "code",
   "execution_count": 99,
   "id": "f92d00f7-0e15-4830-92ee-af5722ed613e",
   "metadata": {},
   "outputs": [
    {
     "name": "stdout",
     "output_type": "stream",
     "text": [
      " Top 5 Most Expensive Books:\n",
      "\n",
      "Title: The Perfect Play (Play by Play #1)\n",
      "Price: £59.99\n",
      "Rating: 3/5\n",
      "----------------------------------------\n",
      "Title: Last One Home (New Beginnings #1)\n",
      "Price: £59.98\n",
      "Rating: 3/5\n",
      "----------------------------------------\n",
      "Title: Civilization and Its Discontents\n",
      "Price: £59.95\n",
      "Rating: 2/5\n",
      "----------------------------------------\n",
      "Title: The Barefoot Contessa Cookbook\n",
      "Price: £59.92\n",
      "Rating: 5/5\n",
      "----------------------------------------\n",
      "Title: The Diary of a Young Girl\n",
      "Price: £59.9\n",
      "Rating: 3/5\n",
      "----------------------------------------\n"
     ]
    }
   ],
   "source": [
    "import mysql.connector\n",
    "\n",
    "conn = mysql.connector.connect(\n",
    "    host=\"localhost\",\n",
    "    user=\"root\",\n",
    "    password=\"Diya@123\",\n",
    "    database=\"bookstoree\"\n",
    ")\n",
    "cursor = conn.cursor()\n",
    "\n",
    "query = \"\"\"\n",
    "SELECT title, price, rating FROM books_scrape\n",
    "ORDER BY price DESC\n",
    "LIMIT 5;\n",
    "\"\"\"\n",
    "cursor.execute(query)\n",
    "rows = cursor.fetchall()\n",
    "\n",
    "print(\" Top 5 Most Expensive Books:\\n\")\n",
    "for row in rows:\n",
    "    print(f\"Title: {row[0]}\\nPrice: £{row[1]}\\nRating: {row[2]}/5\\n{'-'*40}\")\n"
   ]
  },
  {
   "cell_type": "markdown",
   "id": "954617c1-f499-481e-8e35-354420a5c8ab",
   "metadata": {},
   "source": [
    "## Find the average rating of books."
   ]
  },
  {
   "cell_type": "code",
   "execution_count": 103,
   "id": "fd418b0e-75d7-48b6-9df5-25722fe971d8",
   "metadata": {},
   "outputs": [
    {
     "name": "stdout",
     "output_type": "stream",
     "text": [
      "\n",
      " Average Rating of All Books: 2.92 / 5\n"
     ]
    }
   ],
   "source": [
    "cursor.execute(\"SELECT AVG(rating) FROM books_scrape;\")\n",
    "avg_rating = cursor.fetchone()[0]\n",
    "print(f\"\\n Average Rating of All Books: {round(avg_rating, 2)} / 5\")\n"
   ]
  },
  {
   "cell_type": "markdown",
   "id": "75387975-7383-4273-87ea-5ac04868e8a9",
   "metadata": {},
   "source": [
    "## Retrieve the total number of books for each rating (e.g., 1-star, 2-star, etc.)."
   ]
  },
  {
   "cell_type": "code",
   "execution_count": 105,
   "id": "744c3b50-d0a4-4422-944d-2457b4324d9c",
   "metadata": {},
   "outputs": [
    {
     "name": "stdout",
     "output_type": "stream",
     "text": [
      "\n",
      " Book Count by Rating:\n",
      "\n",
      " 5-Star: 196 books\n",
      " 4-Star: 179 books\n",
      " 3-Star: 203 books\n",
      " 2-Star: 196 books\n",
      " 1-Star: 226 books\n"
     ]
    }
   ],
   "source": [
    "cursor.execute(\"\"\"\n",
    "SELECT rating, COUNT(*) AS count\n",
    "FROM books_scrape\n",
    "GROUP BY rating\n",
    "ORDER BY rating DESC;\n",
    "\"\"\")\n",
    "results = cursor.fetchall()\n",
    "\n",
    "print(\"\\n Book Count by Rating:\\n\")\n",
    "for rating, count in results:\n",
    "    print(f\" {rating}-Star: {count} books\")\n"
   ]
  },
  {
   "cell_type": "markdown",
   "id": "434be0a5-ae3b-4d13-9ef4-3c754399e239",
   "metadata": {},
   "source": [
    "# Part 3: Exploratory Data Analysis (EDA) and Data Visualization"
   ]
  },
  {
   "cell_type": "markdown",
   "id": "33871f32-9b2f-4523-8845-cf21b953e386",
   "metadata": {},
   "source": [
    "### Load the CSV into a Pandas DataFrame."
   ]
  },
  {
   "cell_type": "code",
   "execution_count": 23,
   "id": "533da042-3e5b-458f-8273-034d24730f92",
   "metadata": {},
   "outputs": [
    {
     "name": "stdout",
     "output_type": "stream",
     "text": [
      "                                   title  price availability  rating\n",
      "0                   A Light in the Attic  51.77     In stock       3\n",
      "1                     Tipping the Velvet  53.74     In stock       1\n",
      "2                             Soumission  50.10     In stock       1\n",
      "3                          Sharp Objects  47.82     In stock       4\n",
      "4  Sapiens: A Brief History of Humankind  54.23     In stock       5\n"
     ]
    }
   ],
   "source": [
    "import pandas as pd\n",
    "\n",
    "# Load the CSV file\n",
    "df = pd.read_csv('books_data.csv')\n",
    "\n",
    "# Display first few rows\n",
    "print(df.head())\n"
   ]
  },
  {
   "cell_type": "markdown",
   "id": "f4b45c68-9a6a-43b6-8831-02d99f68d2bc",
   "metadata": {},
   "source": [
    "### Display basic statistics about the dataset "
   ]
  },
  {
   "cell_type": "code",
   "execution_count": 7,
   "id": "85fd8573-8687-4ac1-bfbc-4b4fff41cb24",
   "metadata": {},
   "outputs": [
    {
     "name": "stdout",
     "output_type": "stream",
     "text": [
      "\n",
      "\n",
      " Data Info:\n",
      "<class 'pandas.core.frame.DataFrame'>\n",
      "RangeIndex: 1000 entries, 0 to 999\n",
      "Data columns (total 4 columns):\n",
      " #   Column        Non-Null Count  Dtype  \n",
      "---  ------        --------------  -----  \n",
      " 0   title         1000 non-null   object \n",
      " 1   price         1000 non-null   float64\n",
      " 2   availability  1000 non-null   object \n",
      " 3   rating        1000 non-null   int64  \n",
      "dtypes: float64(1), int64(1), object(2)\n",
      "memory usage: 31.4+ KB\n",
      "None\n"
     ]
    }
   ],
   "source": [
    "# Basic Info\n",
    "print(\"\\n\\n Data Info:\")\n",
    "print(df.info())"
   ]
  },
  {
   "cell_type": "code",
   "execution_count": 19,
   "id": "37c8d243-64d0-4c74-96ab-ea2f1f4eb70c",
   "metadata": {},
   "outputs": [
    {
     "name": "stdout",
     "output_type": "stream",
     "text": [
      "\n",
      " Summary Statistics:\n",
      "            price       rating\n",
      "count  1000.00000  1000.000000\n",
      "mean     35.07035     2.923000\n",
      "std      14.44669     1.434967\n",
      "min      10.00000     1.000000\n",
      "25%      22.10750     2.000000\n",
      "50%      35.98000     3.000000\n",
      "75%      47.45750     4.000000\n",
      "max      59.99000     5.000000\n"
     ]
    }
   ],
   "source": [
    "# Summary Stats\n",
    "print(\"\\n Summary Statistics:\")\n",
    "print(df.describe())"
   ]
  },
  {
   "cell_type": "code",
   "execution_count": 21,
   "id": "1a169a3a-b501-4640-afd8-a56f14257686",
   "metadata": {},
   "outputs": [
    {
     "name": "stdout",
     "output_type": "stream",
     "text": [
      "\n",
      " Missing Values:\n",
      "title           0\n",
      "price           0\n",
      "availability    0\n",
      "rating          0\n",
      "dtype: int64\n"
     ]
    }
   ],
   "source": [
    "# Missing values\n",
    "print(\"\\n Missing Values:\")\n",
    "print(df.isnull().sum())"
   ]
  },
  {
   "cell_type": "code",
   "execution_count": 17,
   "id": "f71be5e2-4b0a-49f2-ab43-604bd9ee3133",
   "metadata": {},
   "outputs": [
    {
     "name": "stdout",
     "output_type": "stream",
     "text": [
      "\n",
      " Total number of books: 1000\n"
     ]
    }
   ],
   "source": [
    "# Number of books\n",
    "print(f\"\\n Total number of books: {len(df)}\")"
   ]
  },
  {
   "cell_type": "code",
   "execution_count": 15,
   "id": "bac4e1f2-4e1f-4433-b4d9-3b5cccb399f4",
   "metadata": {},
   "outputs": [
    {
     "name": "stdout",
     "output_type": "stream",
     "text": [
      " Average book price: £35.07\n"
     ]
    }
   ],
   "source": [
    "# Average price\n",
    "print(f\" Average book price: £{df['price'].mean():.2f}\")"
   ]
  },
  {
   "cell_type": "markdown",
   "id": "b9caa2bd-2d5d-42c3-9e37-601b80591f8f",
   "metadata": {},
   "source": [
    "# Data Visualization"
   ]
  },
  {
   "cell_type": "markdown",
   "id": "97075c54-8bc7-467e-b70c-06d7cdb465b5",
   "metadata": {},
   "source": [
    "### Bar chart of the number of books for each rating (1 to 5 stars)."
   ]
  },
  {
   "cell_type": "code",
   "execution_count": 45,
   "id": "d8bac346-62bb-445d-89af-1a2b3557fcd4",
   "metadata": {},
   "outputs": [
    {
     "name": "stderr",
     "output_type": "stream",
     "text": [
      "C:\\Users\\DIYA\\AppData\\Local\\Temp\\ipykernel_1756\\4101846530.py:8: FutureWarning: \n",
      "\n",
      "Passing `palette` without assigning `hue` is deprecated and will be removed in v0.14.0. Assign the `x` variable to `hue` and set `legend=False` for the same effect.\n",
      "\n",
      "  sns.barplot(x=rating_counts.index, y=rating_counts.values, palette='viridis')\n"
     ]
    },
    {
     "data": {
      "image/png": "[encoded data removed]",
      "text/plain": [
       "<Figure size 640x480 with 1 Axes>"
      ]
     },
     "metadata": {},
     "output_type": "display_data"
    }
   ],
   "source": [
    "import seaborn as sns\n",
    "import matplotlib.pyplot as plt\n",
    "\n",
    "\n",
    "rating_counts = df['rating'].value_counts().sort_index()\n",
    "\n",
    "\n",
    "sns.barplot(x=rating_counts.index, y=rating_counts.values, palette='viridis')\n",
    "plt.title('Number of Books by Rating')\n",
    "plt.xlabel('Rating (Stars)')\n",
    "plt.ylabel('Number of Books')\n",
    "plt.show()\n"
   ]
  },
  {
   "cell_type": "markdown",
   "id": "5a425492-4579-4804-8058-773fe7929d56",
   "metadata": {},
   "source": [
    "### Histogram showing the distribution of book prices."
   ]
  },
  {
   "cell_type": "code",
   "execution_count": 32,
   "id": "226b1602-0925-4c42-9e01-237c0204969c",
   "metadata": {},
   "outputs": [
    {
     "data": {
      "image/png": "[encoded data removed]",
      "text/plain": [
       "<Figure size 640x480 with 1 Axes>"
      ]
     },
     "metadata": {},
     "output_type": "display_data"
    }
   ],
   "source": [
    "sns.histplot(df['price'], bins=20, kde=True, color='skyblue')\n",
    "plt.title('Distribution of Book Prices')\n",
    "plt.xlabel('Price (£)')\n",
    "plt.ylabel('Count')\n",
    "plt.show()\n"
   ]
  },
  {
   "cell_type": "markdown",
   "id": "639c8725-129d-4fe8-989d-d71b7c3fb7f9",
   "metadata": {},
   "source": [
    "### Pie chart representing the proportion of books in stock vs. out of stock"
   ]
  },
  {
   "cell_type": "code",
   "execution_count": 47,
   "id": "4cb322dc-9661-485e-a40b-635a5405368a",
   "metadata": {},
   "outputs": [
    {
     "data": {
      "image/png": "[encoded data removed]",
      "text/plain": [
       "<Figure size 640x480 with 1 Axes>"
      ]
     },
     "metadata": {},
     "output_type": "display_data"
    }
   ],
   "source": [
    "df['in_stock'] = df['availability'].str.contains('In stock')\n",
    "\n",
    "stock_counts = df['in_stock'].value_counts()\n",
    "\n",
    "labels = ['In Stock' if val else 'Out of Stock' for val in stock_counts.index]\n",
    "\n",
    "plt.pie(stock_counts, labels=labels, autopct='%1.1f%%', colors=['lightgreen', 'salmon'], startangle=140)\n",
    "plt.title('Stock Availability')\n",
    "plt.axis('equal')\n",
    "plt.show()\n"
   ]
  },
  {
   "cell_type": "markdown",
   "id": "50a4852e-2b25-4f33-bc7d-f222989cea5d",
   "metadata": {},
   "source": [
    "### Any other creative visualization that helps understand the dataset. — Price vs Rating (Box Plot)"
   ]
  },
  {
   "cell_type": "code",
   "execution_count": 40,
   "id": "b4cc999c-658f-4a55-b1a1-525b6c3a3524",
   "metadata": {},
   "outputs": [
    {
     "name": "stderr",
     "output_type": "stream",
     "text": [
      "C:\\Users\\DIYA\\AppData\\Local\\Temp\\ipykernel_1756\\621617582.py:1: FutureWarning: \n",
      "\n",
      "Passing `palette` without assigning `hue` is deprecated and will be removed in v0.14.0. Assign the `x` variable to `hue` and set `legend=False` for the same effect.\n",
      "\n",
      "  sns.boxplot(data=df, x='rating', y='price', palette='pastel')\n"
     ]
    },
    {
     "data": {
      "image/png": "[encoded data removed]",
      "text/plain": [
       "<Figure size 640x480 with 1 Axes>"
      ]
     },
     "metadata": {},
     "output_type": "display_data"
    }
   ],
   "source": [
    "sns.boxplot(data=df, x='rating', y='price', palette='pastel')\n",
    "plt.title('Price Distribution by Rating')\n",
    "plt.xlabel('Rating (Stars)')\n",
    "plt.ylabel('Price (£)')\n",
    "plt.show()\n"
   ]
  },
  {
   "cell_type": "code",
   "execution_count": null,
   "id": "74ade76c-3bf1-48d7-8aa7-fbba069950fd",
   "metadata": {},
   "outputs": [],
   "source": []
  }
 ],
 "metadata": {
  "kernelspec": {
   "display_name": "Python [conda env:base] *",
   "language": "python",
   "name": "conda-base-py"
  },
  "language_info": {
   "codemirror_mode": {
    "name": "ipython",
    "version": 3
   },
   "file_extension": ".py",
   "mimetype": "text/x-python",
   "name": "python",
   "nbconvert_exporter": "python",
   "pygments_lexer": "ipython3",
   "version": "3.12.7"
  }
 },
 "nbformat": 4,
 "nbformat_minor": 5
}
